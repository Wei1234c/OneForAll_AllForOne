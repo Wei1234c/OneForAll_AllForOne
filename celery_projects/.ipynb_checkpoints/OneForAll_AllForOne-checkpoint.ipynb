{
 "cells": [
  {
   "cell_type": "markdown",
   "metadata": {},
   "source": [
    "# [One for all, All for one](https://www.youtube.com/watch?v=FcMCd520Ae8)\n",
    "### [SETI@home](https://en.wikipedia.org/wiki/SETI@home) liked [Volunteer Computing](https://en.wikipedia.org/wiki/Volunteer_computing) on Mixed-Platforms Cluster - using Celery and Docker\n",
    "\n",
    "Wei Lin  \n",
    "20160512  "
   ]
  },
  {
   "cell_type": "markdown",
   "metadata": {},
   "source": [
    "## 緣起   \n",
    "國外有人建造了這個 [120台 Raspberry Pi (RPi) 組成的 cluster](https://resin.io/blog/what-would-you-do-with-a-120-raspberry-pi-cluster/)，相當於有 **480顆 CPU 核心**，但文章中卻說 \"...We're looking for ideas of awesome things we could program for it...\"，是否代表他們目前還沒有辦法驅動這120台電腦呢? 抑或只是缺少一個有趣的應用?  \n",
    "![120台 Raspberry Pi 組成的 cluster](http://i.imgur.com/dAhCmCu.png)  \n",
    "\n",
    "\n",
    "不論是什麼狀況，我覺得上圖的 RPi cluster 中似乎有兩件東西不是絕對的必要:  \n",
    "- 螢幕: 除非是要做電視牆，否則每台 RPi 配一個螢幕似乎不是必要的，而且成本會增加很多。\n",
    "- 機架: 就功能定義與目的來說，一個 cluster 是指 一群共同完成指定運算的電腦，但是沒有人規定這群電腦必須要架設在同一個機架之上，除非是有 建置成本、管理、行銷 方面的考量。單單考慮功能面，這 120 台 RPi 其實可以散佈在網路上，就算彼此相隔十萬八千里，但只要他們彼此之間協同合作共同完成指定的運算，應該也是屬於同一個 \"cluster\"。"
   ]
  },
  {
   "cell_type": "markdown",
   "metadata": {},
   "source": [
    " 如果跳脫 \"必須在同一個機架之中\" 的思維，其實我們可以很容易地建構一個更大的 cluster。例如，或許可以號召台灣的 RPi 使用者，**請他們把 RPi 就地連上網路，這樣就可以很快地建構出一個nodes數量數倍於上圖的 cluster**，應該是很容易的。  \n",
    "\n",
    " 但是，要讓這些電腦具有共同的目的才有意義，例如 [SETI@home](https://en.wikipedia.org/wiki/SETI@home) 集合很多電腦的運算能力來共同解決特定的問題。因此，上述的 cluster 要能具有意義，至少需先滿足幾個前提:\n",
    "- 需要一個機制可以聚合各個電腦的運算能力，即是 需要有一個 distributed parallel computing 的機制。\n",
    "- 因為參加的電腦來自很多不同的人，參加與退出 cluster 的方式應該要非常簡單，最好是 只需執行單一行指令即可。"
   ]
  },
  {
   "cell_type": "markdown",
   "metadata": {},
   "source": [
    " [之前](https://github.com/Wei1234c/CeleryOnDockerSwarm/blob/master/celery_projects/CeleryOnDockerSwarm.md)曾經以兩台 Raspberry Pi 作為基礎建立了 Docker-Swarm，在其上佈署 8 個 Celery worker containers 做 distributed parallel computing 處理 Word-Count 的運算需求。以 Docker containers 作為封裝與承載程式碼的單元，而 Docker-Swarm 作為佈署 containers 的機制，證明 Celery + Docker-Swarm 可以做為分散式平行運算的平台。  \n",
    " \n",
    " 然而，如果要符合上述的兩個前提，則必須要做一些調整:  \n",
    "- 不可使用 Docker Swarm Manager 來佈署 Celery worker containers: 因為 Swarm Manager 必須要透過 無密碼SSH 來操作，這在所有權各異的 nodes 上是行不通的。\n",
    "- **單一封裝: 將 Celery tasks 相關的 Python 程式碼、內含 Broker 位置的 config 檔案 一起封裝成一個 Docker image，志願者只需 pull and run 這個 Docker image 就會啟動 Celery worker container，參加 distributed parallel computing 的陣列**。\n",
    "- 若要退出運算陣列，只需 stop Celery worker container 即可。"
   ]
  },
  {
   "cell_type": "markdown",
   "metadata": {},
   "source": [
    "更進一步的思考，如果 RPi 可以透過上述的機制，run 一個 Docker image 就可以自由的加入並組成一個巨大的 distributed parallel computing cluster，那麼因為 Docker image 具有 \"build once, run anywhere\" 的特性，其他平台的電腦 只要能跑 Docker，應該也可以參加這個 cluster 才對。"
   ]
  },
  {
   "cell_type": "markdown",
   "metadata": {},
   "source": [
    "再者，就算其他的平台電腦不支援 Docker，只要能跑 Python 與 Celery，應該也是可以參加這個 cluster 才對。不過本次實驗先只針對 Docker 的環境做討論，暫不將這類的電腦納入測試對象。"
   ]
  },
  {
   "cell_type": "markdown",
   "metadata": {},
   "source": [
    "## 實驗前提與目標:\n",
    "- 不同硬體架構與OS平台的電腦，只要支援 Docker 的機制，可以自由加入或退出運算陣列。\n",
    "- 本次實驗，使用的 硬體架構與OS平台 包括:\n",
    " - HypriotOS on Raspberry Pi v.2\n",
    " - Ubuntu on amd64 \n",
    "- **各式電腦，只要 run 指定的 Docker image 之後，就會自動加入 volunteer-computing 的陣列，貢獻運算力量**。\n",
    "- 各式電腦，可以 run 不同的 Docker image，參加不同的 volunteer-computing 陣列與 projects。\n",
    "- 超越 volunteer-computing 單向付出的模式，有權限的使用者也可以下指令發送訊息到 cluster 中要求平行運算，也享用大家分享出來的運算資源。所能做的運算受限於 當初封裝在 Docker image 中的 Python code。\n",
    "- Cluster 之組成、目的、與功能:\n",
    " - 以一台 HypriotOS on Raspberry Pi + 一台 Ubuntu on amd64 建構一個 **Web Crawler Cluster**，接收 股票代號，抓取證交所該個股的日成交資訊。\n",
    " - **每台機器中 run 2 個 Celery worker containers，兩台機器中共有 4 個 worker containers**。\n",
    " - 以 cluster 之外的 使用者端電腦 (Windows 7 64bits) 對 cluster 發送 task messages。\n",
    " - 每個 task message 中包括一個 `get_table(stock_id)` 的指令，接收到訊息的 worker 會去證交所抓取該個股的日成交資訊傳回。\n",
    " - **task messages 的運算需求 由 4 個 workers 分攤，平行地處理**。\n",
    " - 使用者端電腦 收到每個 task message 的結果之後，自行彙整資料。\n",
    "- **Web Crawler Cluster 只是一個示範的應用，這個 distributed parallel computing cluster 也可做其他的用途，完全取決於 封裝在 Docker image 中的程式碼**，cluster 中各 nodes 的運作也不一定是 parallel 的，也可以是 distributed concurrent 的模式。"
   ]
  },
  {
   "cell_type": "markdown",
   "metadata": {},
   "source": [
    "## 實作步驟:"
   ]
  },
  {
   "cell_type": "markdown",
   "metadata": {},
   "source": [
    "### 建立 Docker image for RPi: \n",
    "Celery Worker Dockerfile for ARM v7  \n",
    "image name: wei1234c/one_for_all_all_for_one_armv7 "
   ]
  },
  {
   "cell_type": "code",
   "execution_count": null,
   "metadata": {
    "collapsed": true
   },
   "outputs": [],
   "source": [
    "# one_for_all_all_for_one_armv7\n",
    "# Celery Worker Dockerfile\n",
    "# for ARM v7\n",
    "# 20160512\n",
    " \n",
    "FROM wei1234c/celery_armv7\n",
    "\n",
    "MAINTAINER Wei Lin\n",
    "\n",
    "USER root\n",
    "\n",
    "RUN\tmkdir /celery_projects\n",
    "\n",
    "WORKDIR /celery_projects\n",
    "\n",
    "COPY . /celery_projects/\n",
    " \n",
    "RUN\tchmod +x /celery_projects/start_workers.sh\n",
    "\n",
    "USER pi\n",
    "\n",
    "CMD [\"/bin/sh\", \"/celery_projects/start_workers.sh\"]"
   ]
  },
  {
   "cell_type": "markdown",
   "metadata": {},
   "source": [
    "### build Docker image for RPi: \n",
    "image name: wei1234c/one_for_all_all_for_one_armv7"
   ]
  },
  {
   "cell_type": "code",
   "execution_count": null,
   "metadata": {
    "collapsed": true
   },
   "outputs": [],
   "source": [
    "HypriotOS: pi@rpi202 in ~\n",
    "$ docker build -t wei1234c/one_for_all_all_for_one_armv7 /dockerfiles/ARMv7/one_for_all_all_for_one\n",
    "Sending build context to Docker daemon 9.216 kB\n",
    "Step 1 : FROM wei1234c/celery_armv7\n",
    " ---> 8939b7e5c928\n",
    "Step 2 : MAINTAINER Wei Lin\n",
    " ---> Using cache\n",
    " ---> 186c6ea155e8\n",
    "Step 3 : USER root\n",
    " ---> Using cache\n",
    " ---> b84c84193d65\n",
    "Step 4 : RUN mkdir /celery_projects\n",
    " ---> Using cache\n",
    " ---> fff839303a93\n",
    "Step 5 : WORKDIR /celery_projects\n",
    " ---> Using cache\n",
    " ---> 27938d9d6ae8\n",
    "Step 6 : COPY . /celery_projects/\n",
    " ---> c120021c8dc0\n",
    "Removing intermediate container 5b4421e5472b\n",
    "Step 7 : RUN chmod +x /celery_projects/start_workers.sh\n",
    " ---> Running in f719c550c90d\n",
    " ---> efa549c140dd\n",
    "Removing intermediate container f719c550c90d\n",
    "Step 8 : USER pi\n",
    " ---> Running in 1c7a5587769b\n",
    " ---> 427f37517ba9\n",
    "Removing intermediate container 1c7a5587769b\n",
    "Step 9 : CMD /bin/sh /celery_projects/start_workers.sh\n",
    " ---> Running in ed24629cb0ba\n",
    " ---> d7bb6603b6c6\n",
    "Removing intermediate container ed24629cb0ba\n",
    "Successfully built d7bb6603b6c6\n",
    "HypriotOS: pi@rpi202 in ~\n",
    "$ "
   ]
  },
  {
   "cell_type": "markdown",
   "metadata": {},
   "source": [
    "### 建立 Docker image for amd64: \n",
    "Celery Worker Dockerfile for amd64  \n",
    "image name: wei1234c/one_for_all_all_for_one"
   ]
  },
  {
   "cell_type": "code",
   "execution_count": null,
   "metadata": {
    "collapsed": true
   },
   "outputs": [],
   "source": [
    "# one_for_all_all_for_one\n",
    "# Celery Worker Dockerfile\n",
    "# for amd64\n",
    "# 20160512\n",
    " \n",
    "FROM ubuntu\n",
    "\n",
    "MAINTAINER Wei Lin\n",
    "\n",
    "USER root\n",
    "\n",
    "# Add user pi\n",
    "RUN \\\n",
    "\tuseradd -G adm,sudo,users -s /bin/bash -m pi && \\\n",
    "\techo 'pi:raspberry' | chpasswd\n",
    "\n",
    "\n",
    "#RUN pip3 install pandas\n",
    "\n",
    "# Install Python. ____________________________________________________________________________________________\n",
    "RUN apt-get update && \\\n",
    "    apt-get install -y python3 python3-pip python3-dev python3-numpy python3-scipy python3-matplotlib python3-pandas && \\\n",
    "    apt-get install -y python python-pip python-dev\n",
    "\n",
    "# Install Celery  ____________________________________________________________________________________________\n",
    "RUN \\\n",
    "\tpip3 install -U celery\n",
    "\n",
    "RUN \\\n",
    "\tpip3 install -U redis\n",
    "\n",
    "RUN\tmkdir /celery_projects\n",
    "\t\n",
    "WORKDIR /celery_projects\n",
    "\n",
    "COPY . /celery_projects/\n",
    " \n",
    "RUN\tchmod +x /celery_projects/start_workers.sh\n",
    "\n",
    "USER pi\n",
    "\n",
    "CMD [\"/bin/sh\", \"/celery_projects/start_workers.sh\"]"
   ]
  },
  {
   "cell_type": "markdown",
   "metadata": {},
   "source": [
    "### build Docker image for amd64: \n",
    "image name: wei1234c/one_for_all_all_for_one"
   ]
  },
  {
   "cell_type": "code",
   "execution_count": null,
   "metadata": {
    "collapsed": true
   },
   "outputs": [],
   "source": [
    "wei@Wei-Lenovo:~$ docker build -t wei1234c/one_for_all_all_for_one /docker/dockerfiles/amd64/one_for_all_all_for_one\n",
    "Sending build context to Docker daemon 9.728 kB\n",
    "Step 1 : FROM ubuntu\n",
    " ---> c5f1cf30c96b\n",
    "Step 2 : MAINTAINER Wei Lin\n",
    " ---> Using cache\n",
    " ---> 626cc4694d46\n",
    "Step 3 : USER root\n",
    " ---> Using cache\n",
    " ---> 9212cedf802b\n",
    "Step 4 : RUN useradd -G adm,sudo,users -s /bin/bash -m pi &&    echo 'pi:raspberry' | chpasswd\n",
    " ---> Using cache\n",
    " ---> a237ec2f3a84\n",
    "Step 5 : RUN apt-get update &&     apt-get install -y python3 python3-pip python3-dev python3-numpy python3-scipy python3-matplotlib python3-pandas &&     apt-get install -y python python-pip python-dev\n",
    " ---> Using cache\n",
    " ---> f65b7e004075\n",
    "Step 6 : RUN pip3 install -U celery\n",
    " ---> Using cache\n",
    " ---> 3764134da5f1\n",
    "Step 7 : RUN pip3 install -U redis\n",
    " ---> Using cache\n",
    " ---> 61772207fc08\n",
    "Step 8 : RUN mkdir /celery_projects\n",
    " ---> Using cache\n",
    " ---> c68f9dc73b5c\n",
    "Step 9 : WORKDIR /celery_projects\n",
    " ---> Using cache\n",
    " ---> b9e490c48b98\n",
    "Step 10 : COPY . /celery_projects/\n",
    " ---> Using cache\n",
    " ---> 55e921f0a082\n",
    "Step 11 : RUN chmod +x /celery_projects/start_workers.sh\n",
    " ---> Using cache\n",
    " ---> 194e82a97639\n",
    "Step 12 : USER pi\n",
    " ---> Using cache\n",
    " ---> 740675730169\n",
    "Step 13 : CMD /bin/sh /celery_projects/start_workers.sh\n",
    " ---> Using cache\n",
    " ---> d77e8341bf85\n",
    "Successfully built d77e8341bf85\n",
    "wei@Wei-Lenovo:~$"
   ]
  },
  {
   "cell_type": "markdown",
   "metadata": {},
   "source": [
    "### 建立 Celery 所需的 Broker，使用 Redis"
   ]
  },
  {
   "cell_type": "code",
   "execution_count": null,
   "metadata": {
    "collapsed": true
   },
   "outputs": [],
   "source": [
    "HypriotOS: pi@rpi202 in ~\n",
    "$ docker run -d -p 6379:6379 --name=redis --volume=/data:/data hypriot/rpi-redis\n",
    "2ee100973b0e1317e7511de0c97b2a29ad02a688f9928c14f347922a4aa3fb5d\n",
    "\n",
    "HypriotOS: pi@rpi202 in ~\n",
    "$ docker ps\n",
    "CONTAINER ID        IMAGE               COMMAND                  CREATED             STATUS              PORTS                    NAMES\n",
    "2ee100973b0e        hypriot/rpi-redis   \"/entrypoint.sh redis\"   8 seconds ago       Up 7 seconds        0.0.0.0:6379->6379/tcp   redis\n",
    "HypriotOS: pi@rpi202 in ~\n",
    "$"
   ]
  },
  {
   "cell_type": "markdown",
   "metadata": {},
   "source": [
    "### 建立監控用的 [Flower](http://docs.celeryproject.org/en/latest/userguide/monitoring.html#flower-real-time-celery-web-monitor) container"
   ]
  },
  {
   "cell_type": "code",
   "execution_count": null,
   "metadata": {
    "collapsed": true
   },
   "outputs": [],
   "source": [
    "HypriotOS: pi@rpi202 in ~\n",
    "$ docker run -d -p 5555:5555 --name=flower wei1234c/one_for_all_all_for_one_armv7 /bin/sh -c \"cd /celery_projects && celery -A stock flower\"\n",
    "3c6e9e85417b536d07562575711e5f288097ed48d6f12c0129155d01ea746e66\n",
    "\n",
    "HypriotOS: pi@rpi202 in ~\n",
    "$ docker ps\n",
    "CONTAINER ID        IMAGE                                    COMMAND                  CREATED             STATUS              PORTS                    NAMES\n",
    "3c6e9e85417b        wei1234c/one_for_all_all_for_one_armv7   \"/bin/sh -c 'cd /cele\"   9 seconds ago       Up 7 seconds        0.0.0.0:5555->5555/tcp   flower\n",
    "2ee100973b0e        hypriot/rpi-redis                        \"/entrypoint.sh redis\"   2 hours ago         Up 2 hours          0.0.0.0:6379->6379/tcp   redis\n",
    "HypriotOS: pi@rpi202 in ~\n",
    "$"
   ]
  },
  {
   "cell_type": "markdown",
   "metadata": {},
   "source": [
    "### 還沒有啟動任何 worker，所以 Flower 介面中是空的"
   ]
  },
  {
   "cell_type": "markdown",
   "metadata": {},
   "source": [
    "![](./jpgs/flower2.jpg)"
   ]
  },
  {
   "cell_type": "markdown",
   "metadata": {},
   "source": [
    "### 在 RPi 中啟動 Celery worker container\n",
    "### <font color='red'>志願者 只需在 RPi 上面 run 這個 Docker image，無需作任何其他的動作，即可加入 distributed parallel computing 的陣列，貢獻運算資源。</font>"
   ]
  },
  {
   "cell_type": "code",
   "execution_count": null,
   "metadata": {
    "collapsed": true
   },
   "outputs": [],
   "source": [
    "HypriotOS: pi@rpi202 in ~\n",
    "$ docker run -d --name=musketeer1 wei1234c/one_for_all_all_for_one_armv7\n",
    "5286a81ba451b8473ef2b5e3bb965a7b0fc31511e1ed4e368659aece2478e053\n",
    "\n",
    "HypriotOS: pi@rpi202 in ~\n",
    "$ docker ps\n",
    "CONTAINER ID        IMAGE                                    COMMAND                  CREATED             STATUS              PORTS                    NAMES\n",
    "5286a81ba451        wei1234c/one_for_all_all_for_one_armv7   \"/bin/sh /celery_proj\"   4 seconds ago       Up 3 seconds        5555/tcp                 musketeer1\n",
    "3c6e9e85417b        wei1234c/one_for_all_all_for_one_armv7   \"/bin/sh -c 'cd /cele\"   5 minutes ago       Up 5 minutes        0.0.0.0:5555->5555/tcp   flower\n",
    "2ee100973b0e        hypriot/rpi-redis                        \"/entrypoint.sh redis\"   2 hours ago         Up 2 hours          0.0.0.0:6379->6379/tcp   redis\n",
    "HypriotOS: pi@rpi202 in ~\n",
    "$"
   ]
  },
  {
   "cell_type": "markdown",
   "metadata": {},
   "source": [
    "### RPi 中的 Celery worker container 啟動之後，Flower 介面中即可看到該 worker，但是目前還沒有接到 task message"
   ]
  },
  {
   "cell_type": "markdown",
   "metadata": {},
   "source": [
    "![](./jpgs/flower3.jpg)"
   ]
  },
  {
   "cell_type": "markdown",
   "metadata": {},
   "source": [
    "### package stock 之下的 tasks.py，內含用來定義 task message 的 get_table 函數"
   ]
  },
  {
   "cell_type": "code",
   "execution_count": null,
   "metadata": {
    "collapsed": false
   },
   "outputs": [],
   "source": [
    "from stock.celery import app\n",
    "\n",
    "import pandas as pd\n",
    "from datetime import datetime\n",
    "\n",
    "\n",
    "def get_url(stock_id, year = datetime.today().year, month = datetime.today().month):\n",
    "    return 'http://www.twse.com.tw/ch/trading/exchange/STOCK_DAY/genpage/Report{year}{month:02}/{year}{month:02}_F3_1_8_{stock_id}.php?STK_NO={stock_id}&myear={year}&mmon={month:02}'.format(stock_id = stock_id, year = year, month = month)\n",
    "\n",
    "\n",
    "@app.task\n",
    "def get_table(stock_id, year = datetime.today().year, month = datetime.today().month):\n",
    "    \n",
    "    url = get_url(stock_id, year, month) \n",
    "    targetTableIndex = 0\n",
    "    \n",
    "    table = pd.read_html(url,\n",
    "                         attrs = {'border': '0' , \n",
    "                                  'width': '598', \n",
    "                                  'align': 'center', \n",
    "                                  'cellpadding': '0', \n",
    "                                  'cellspacing': '1', \n",
    "                                  'class': 'board_trad'},\n",
    "                         header = 1\n",
    "                        )[targetTableIndex]\n",
    "    \n",
    "    table['個股代號'] = stock_id\n",
    "    table = table.reindex(columns = ['個股代號', '日期', '成交股數', '成交金額', '開盤價', '最高價', '最低價', '收盤價', '漲跌價差', '成交筆數'])\n",
    "    \n",
    "    return table.tail(1).values"
   ]
  },
  {
   "cell_type": "code",
   "execution_count": 14,
   "metadata": {
    "collapsed": true
   },
   "outputs": [],
   "source": [
    "# load stock.tasks，會將 get_table 函數的定義載入\n",
    "from stock.tasks import * \n",
    "import numpy as np"
   ]
  },
  {
   "cell_type": "code",
   "execution_count": 7,
   "metadata": {
    "collapsed": false
   },
   "outputs": [
    {
     "data": {
      "text/plain": [
       "array([[2356, '105/05/12', 5614182, 114086911, 20.2, 20.55, 20.1, 20.3,\n",
       "        -0.1, 3159]], dtype=object)"
      ]
     },
     "execution_count": 7,
     "metadata": {},
     "output_type": "execute_result"
    }
   ],
   "source": [
    "# 如果直接呼叫，不傳送 task message 給 Broker\n",
    "# 直接由 Windows 7 的 PC 在 local 端叫用 get_table 函數\n",
    "get_table(2356)"
   ]
  },
  {
   "cell_type": "markdown",
   "metadata": {},
   "source": [
    "### 非同步呼叫\n",
    "**<font color='red'>在 Windows 7 的 PC 上，以 IPython Notebook 透過 Celery 的機制對 cluster 發送 task message，要求 cluster 提供平行運算的服務。  \n",
    "Windows 7 的 PC 本身並無使用 Docker 機制。</font>**   \n",
    "get_table.apply_async() 會傳送 task message 給 Broker  \n",
    "Broker 將 task message 放在 Queue中  \n",
    "RPi 中的 worker 會到 Queue 中檢出 task 執行之後 傳回結果"
   ]
  },
  {
   "cell_type": "code",
   "execution_count": 8,
   "metadata": {
    "collapsed": false
   },
   "outputs": [
    {
     "data": {
      "text/plain": [
       "array([[2356, '105/05/12', 5614182, 114086911, 20.2, 20.55, 20.1, 20.3,\n",
       "        -0.1, 3159]], dtype=object)"
      ]
     },
     "execution_count": 8,
     "metadata": {},
     "output_type": "execute_result"
    }
   ],
   "source": [
    "# 非同步呼叫，傳送 task message 給 Broker\n",
    "# Broker 將 task message 放在 Queue中\n",
    "# RPi 中的 worker 會到 Queue 中檢出 task 執行之後 傳回結果\n",
    "r = get_table.apply_async(args = [2356])\n",
    "r.get()"
   ]
  },
  {
   "cell_type": "markdown",
   "metadata": {},
   "source": [
    "### 傳送 task messge 給 Broker 之後，Flower 介面中即可看到紀錄，有一個成功處理的 task。"
   ]
  },
  {
   "cell_type": "markdown",
   "metadata": {},
   "source": [
    "![](./jpgs/flower4.jpg)"
   ]
  },
  {
   "cell_type": "markdown",
   "metadata": {},
   "source": [
    "### 在 RPi 中啟動第二個 Celery worker container"
   ]
  },
  {
   "cell_type": "code",
   "execution_count": null,
   "metadata": {
    "collapsed": true
   },
   "outputs": [],
   "source": [
    "HypriotOS: pi@rpi202 in ~\n",
    "$ docker run -d --name=musketeer2 wei1234c/one_for_all_all_for_one_armv7\n",
    "b47a17508557cd48bbb21d48d7ad6b652e492058cf209d1c920a28db361e3568\n",
    "\n",
    "HypriotOS: pi@rpi202 in ~\n",
    "$ docker ps\n",
    "CONTAINER ID        IMAGE                                    COMMAND                  CREATED             STATUS              PORTS                    NAMES\n",
    "b47a17508557        wei1234c/one_for_all_all_for_one_armv7   \"/bin/sh /celery_proj\"   4 seconds ago       Up 3 seconds        5555/tcp                 musketeer2\n",
    "5286a81ba451        wei1234c/one_for_all_all_for_one_armv7   \"/bin/sh /celery_proj\"   21 minutes ago      Up 21 minutes       5555/tcp                 musketeer1\n",
    "3c6e9e85417b        wei1234c/one_for_all_all_for_one_armv7   \"/bin/sh -c 'cd /cele\"   26 minutes ago      Up 26 minutes       0.0.0.0:5555->5555/tcp   flower\n",
    "2ee100973b0e        hypriot/rpi-redis                        \"/entrypoint.sh redis\"   3 hours ago         Up 3 hours          0.0.0.0:6379->6379/tcp   redis\n",
    "HypriotOS: pi@rpi202 in ~\n",
    "$"
   ]
  },
  {
   "cell_type": "markdown",
   "metadata": {},
   "source": [
    "### Flower 介面中即可看到有兩個 workers"
   ]
  },
  {
   "cell_type": "markdown",
   "metadata": {},
   "source": [
    "![](./jpgs/flower5.jpg)"
   ]
  },
  {
   "cell_type": "markdown",
   "metadata": {},
   "source": [
    "### 在 amd64 的 機器中啟動兩個 Celery worker container"
   ]
  },
  {
   "cell_type": "code",
   "execution_count": null,
   "metadata": {
    "collapsed": true
   },
   "outputs": [],
   "source": [
    "wei@Wei-Lenovo:~$ docker run -d --name=musketeer3 wei1234c/one_for_all_all_for_one\n",
    "65b6d885fb5bf06f10517c79325d19639446d939a0b2395aada323674e2eb121\n",
    "\n",
    "wei@Wei-Lenovo:~$ docker run -d --name=musketeer4 wei1234c/one_for_all_all_for_one\n",
    "d71f611c0ae6123f5139f02b1a5a5936f162259271061e7c256cc06d9b9d2511\n",
    "\n",
    "wei@Wei-Lenovo:~$ docker ps\n",
    "CONTAINER ID        IMAGE                              COMMAND                  CREATED              STATUS              PORTS               NAMES\n",
    "d71f611c0ae6        wei1234c/one_for_all_all_for_one   \"/bin/sh /celery_proj\"   6 seconds ago        Up 3 seconds                            musketeer4\n",
    "65b6d885fb5b        wei1234c/one_for_all_all_for_one   \"/bin/sh /celery_proj\"   About a minute ago   Up About a minute                       musketeer3\n",
    "wei@Wei-Lenovo:~$"
   ]
  },
  {
   "cell_type": "markdown",
   "metadata": {},
   "source": [
    "### Flower 介面中即可看到有4個 workers，2個在 RPi 中，2個在 amd64的機器中"
   ]
  },
  {
   "cell_type": "markdown",
   "metadata": {},
   "source": [
    "![](./jpgs/flower6.jpg)"
   ]
  },
  {
   "cell_type": "code",
   "execution_count": 29,
   "metadata": {
    "collapsed": false
   },
   "outputs": [],
   "source": [
    "# 要抓取資料的 個股代號\n",
    "stocks = [1101, 1102, 1103, 1104, 1108, 1109, 1110, 1201, 1203, 1210, 1213, 1215, 1216, 1217, 1218, 1219, 1220,\n",
    "          1225, 1227, 1229, 1231, 1232, 1233, 1234, 1235, 1236, 1256, 1702, 1737, 1301]"
   ]
  },
  {
   "cell_type": "code",
   "execution_count": 36,
   "metadata": {
    "collapsed": true
   },
   "outputs": [],
   "source": [
    "from pandas import DataFrame\n",
    "\n",
    "# 彙整資料成為 Pandas.DataFrame\n",
    "def reduce(results):\n",
    "    data = []\n",
    "    for result in results: data.append(result[0])\n",
    "        \n",
    "    table = DataFrame(list(data), \n",
    "                      columns = ['個股代號', '日期', '成交股數', '成交金額', '開盤價', '最高價', '最低價', '收盤價', '漲跌價差', '成交筆數'])\n",
    "\n",
    "    return table     "
   ]
  },
  {
   "cell_type": "code",
   "execution_count": 31,
   "metadata": {
    "collapsed": false
   },
   "outputs": [
    {
     "name": "stdout",
     "output_type": "stream",
     "text": [
      "Wall time: 19.2 s\n"
     ]
    },
    {
     "data": {
      "text/html": [
       "<div>\n",
       "<table border=\"1\" class=\"dataframe\">\n",
       "  <thead>\n",
       "    <tr style=\"text-align: right;\">\n",
       "      <th></th>\n",
       "      <th>個股代號</th>\n",
       "      <th>日期</th>\n",
       "      <th>成交股數</th>\n",
       "      <th>成交金額</th>\n",
       "      <th>開盤價</th>\n",
       "      <th>最高價</th>\n",
       "      <th>最低價</th>\n",
       "      <th>收盤價</th>\n",
       "      <th>漲跌價差</th>\n",
       "      <th>成交筆數</th>\n",
       "    </tr>\n",
       "  </thead>\n",
       "  <tbody>\n",
       "    <tr>\n",
       "      <th>0</th>\n",
       "      <td>1101</td>\n",
       "      <td>105/05/12</td>\n",
       "      <td>3242925</td>\n",
       "      <td>96161650</td>\n",
       "      <td>29.50</td>\n",
       "      <td>29.80</td>\n",
       "      <td>29.45</td>\n",
       "      <td>29.70</td>\n",
       "      <td>0.05</td>\n",
       "      <td>2064</td>\n",
       "    </tr>\n",
       "    <tr>\n",
       "      <th>1</th>\n",
       "      <td>1102</td>\n",
       "      <td>105/05/12</td>\n",
       "      <td>3094327</td>\n",
       "      <td>80204709</td>\n",
       "      <td>25.60</td>\n",
       "      <td>26.30</td>\n",
       "      <td>25.55</td>\n",
       "      <td>26.00</td>\n",
       "      <td>0.40</td>\n",
       "      <td>2046</td>\n",
       "    </tr>\n",
       "    <tr>\n",
       "      <th>2</th>\n",
       "      <td>1103</td>\n",
       "      <td>105/05/12</td>\n",
       "      <td>56511</td>\n",
       "      <td>492804</td>\n",
       "      <td>8.78</td>\n",
       "      <td>8.78</td>\n",
       "      <td>8.70</td>\n",
       "      <td>8.74</td>\n",
       "      <td>-0.04</td>\n",
       "      <td>32</td>\n",
       "    </tr>\n",
       "    <tr>\n",
       "      <th>3</th>\n",
       "      <td>1104</td>\n",
       "      <td>105/05/12</td>\n",
       "      <td>138794</td>\n",
       "      <td>2766347</td>\n",
       "      <td>20.15</td>\n",
       "      <td>20.15</td>\n",
       "      <td>19.85</td>\n",
       "      <td>20.00</td>\n",
       "      <td>-0.15</td>\n",
       "      <td>85</td>\n",
       "    </tr>\n",
       "    <tr>\n",
       "      <th>4</th>\n",
       "      <td>1108</td>\n",
       "      <td>105/05/12</td>\n",
       "      <td>85995</td>\n",
       "      <td>865446</td>\n",
       "      <td>10.05</td>\n",
       "      <td>10.10</td>\n",
       "      <td>10.00</td>\n",
       "      <td>10.05</td>\n",
       "      <td>0.00</td>\n",
       "      <td>43</td>\n",
       "    </tr>\n",
       "  </tbody>\n",
       "</table>\n",
       "</div>"
      ],
      "text/plain": [
       "   個股代號         日期     成交股數      成交金額    開盤價    最高價    最低價    收盤價  漲跌價差  成交筆數\n",
       "0  1101  105/05/12  3242925  96161650  29.50  29.80  29.45  29.70  0.05  2064\n",
       "1  1102  105/05/12  3094327  80204709  25.60  26.30  25.55  26.00  0.40  2046\n",
       "2  1103  105/05/12    56511    492804   8.78   8.78   8.70   8.74 -0.04    32\n",
       "3  1104  105/05/12   138794   2766347  20.15  20.15  19.85  20.00 -0.15    85\n",
       "4  1108  105/05/12    85995    865446  10.05  10.10  10.00  10.05  0.00    43"
      ]
     },
     "execution_count": 31,
     "metadata": {},
     "output_type": "execute_result"
    }
   ],
   "source": [
    "def get_stock_prices(stocks):\n",
    "    \n",
    "    # 發送給 Celery 執行\n",
    "    asyncResults = [get_table.apply_async(args = [stock]) for stock in stocks] \n",
    "    \n",
    "    # 向 AsyncResults 索取結果，並集結成 list\n",
    "    results = [asyncResult.get() for asyncResult in asyncResults if asyncResult.get() is not None]\n",
    "\n",
    "    return reduce(results)  \n",
    "\n",
    "%time prices = get_stock_prices(stocks)\n",
    "prices[:5]"
   ]
  },
  {
   "cell_type": "code",
   "execution_count": 32,
   "metadata": {
    "collapsed": false
   },
   "outputs": [
    {
     "data": {
      "text/html": [
       "<div>\n",
       "<table border=\"1\" class=\"dataframe\">\n",
       "  <thead>\n",
       "    <tr style=\"text-align: right;\">\n",
       "      <th></th>\n",
       "      <th>個股代號</th>\n",
       "      <th>日期</th>\n",
       "      <th>成交股數</th>\n",
       "      <th>成交金額</th>\n",
       "      <th>開盤價</th>\n",
       "      <th>最高價</th>\n",
       "      <th>最低價</th>\n",
       "      <th>收盤價</th>\n",
       "      <th>漲跌價差</th>\n",
       "      <th>成交筆數</th>\n",
       "    </tr>\n",
       "  </thead>\n",
       "  <tbody>\n",
       "    <tr>\n",
       "      <th>0</th>\n",
       "      <td>1101</td>\n",
       "      <td>105/05/12</td>\n",
       "      <td>3242925</td>\n",
       "      <td>96161650</td>\n",
       "      <td>29.50</td>\n",
       "      <td>29.80</td>\n",
       "      <td>29.45</td>\n",
       "      <td>29.70</td>\n",
       "      <td>0.05</td>\n",
       "      <td>2064</td>\n",
       "    </tr>\n",
       "    <tr>\n",
       "      <th>1</th>\n",
       "      <td>1102</td>\n",
       "      <td>105/05/12</td>\n",
       "      <td>3094327</td>\n",
       "      <td>80204709</td>\n",
       "      <td>25.60</td>\n",
       "      <td>26.30</td>\n",
       "      <td>25.55</td>\n",
       "      <td>26.00</td>\n",
       "      <td>0.40</td>\n",
       "      <td>2046</td>\n",
       "    </tr>\n",
       "    <tr>\n",
       "      <th>2</th>\n",
       "      <td>1103</td>\n",
       "      <td>105/05/12</td>\n",
       "      <td>56511</td>\n",
       "      <td>492804</td>\n",
       "      <td>8.78</td>\n",
       "      <td>8.78</td>\n",
       "      <td>8.70</td>\n",
       "      <td>8.74</td>\n",
       "      <td>-0.04</td>\n",
       "      <td>32</td>\n",
       "    </tr>\n",
       "    <tr>\n",
       "      <th>3</th>\n",
       "      <td>1104</td>\n",
       "      <td>105/05/12</td>\n",
       "      <td>138794</td>\n",
       "      <td>2766347</td>\n",
       "      <td>20.15</td>\n",
       "      <td>20.15</td>\n",
       "      <td>19.85</td>\n",
       "      <td>20.00</td>\n",
       "      <td>-0.15</td>\n",
       "      <td>85</td>\n",
       "    </tr>\n",
       "    <tr>\n",
       "      <th>4</th>\n",
       "      <td>1108</td>\n",
       "      <td>105/05/12</td>\n",
       "      <td>85995</td>\n",
       "      <td>865446</td>\n",
       "      <td>10.05</td>\n",
       "      <td>10.10</td>\n",
       "      <td>10.00</td>\n",
       "      <td>10.05</td>\n",
       "      <td>0.00</td>\n",
       "      <td>43</td>\n",
       "    </tr>\n",
       "    <tr>\n",
       "      <th>5</th>\n",
       "      <td>1109</td>\n",
       "      <td>105/05/12</td>\n",
       "      <td>4000</td>\n",
       "      <td>40050</td>\n",
       "      <td>10.05</td>\n",
       "      <td>10.05</td>\n",
       "      <td>10.00</td>\n",
       "      <td>10.00</td>\n",
       "      <td>0.00</td>\n",
       "      <td>4</td>\n",
       "    </tr>\n",
       "    <tr>\n",
       "      <th>6</th>\n",
       "      <td>1110</td>\n",
       "      <td>105/05/12</td>\n",
       "      <td>31000</td>\n",
       "      <td>445500</td>\n",
       "      <td>14.20</td>\n",
       "      <td>14.45</td>\n",
       "      <td>14.20</td>\n",
       "      <td>14.45</td>\n",
       "      <td>0.00</td>\n",
       "      <td>13</td>\n",
       "    </tr>\n",
       "    <tr>\n",
       "      <th>7</th>\n",
       "      <td>1201</td>\n",
       "      <td>105/05/12</td>\n",
       "      <td>1015742</td>\n",
       "      <td>19595770</td>\n",
       "      <td>19.65</td>\n",
       "      <td>19.70</td>\n",
       "      <td>19.00</td>\n",
       "      <td>19.10</td>\n",
       "      <td>-0.60</td>\n",
       "      <td>384</td>\n",
       "    </tr>\n",
       "    <tr>\n",
       "      <th>8</th>\n",
       "      <td>1203</td>\n",
       "      <td>105/05/12</td>\n",
       "      <td>12004</td>\n",
       "      <td>257184</td>\n",
       "      <td>21.55</td>\n",
       "      <td>21.55</td>\n",
       "      <td>21.40</td>\n",
       "      <td>21.40</td>\n",
       "      <td>-0.30</td>\n",
       "      <td>11</td>\n",
       "    </tr>\n",
       "    <tr>\n",
       "      <th>9</th>\n",
       "      <td>1210</td>\n",
       "      <td>105/05/12</td>\n",
       "      <td>4576158</td>\n",
       "      <td>107022964</td>\n",
       "      <td>23.05</td>\n",
       "      <td>23.75</td>\n",
       "      <td>23.00</td>\n",
       "      <td>23.40</td>\n",
       "      <td>0.50</td>\n",
       "      <td>1946</td>\n",
       "    </tr>\n",
       "    <tr>\n",
       "      <th>10</th>\n",
       "      <td>1213</td>\n",
       "      <td>105/05/12</td>\n",
       "      <td>26010</td>\n",
       "      <td>447070</td>\n",
       "      <td>17.30</td>\n",
       "      <td>17.30</td>\n",
       "      <td>17.15</td>\n",
       "      <td>17.15</td>\n",
       "      <td>-0.10</td>\n",
       "      <td>21</td>\n",
       "    </tr>\n",
       "    <tr>\n",
       "      <th>11</th>\n",
       "      <td>1215</td>\n",
       "      <td>105/05/12</td>\n",
       "      <td>4658698</td>\n",
       "      <td>135637699</td>\n",
       "      <td>28.65</td>\n",
       "      <td>29.40</td>\n",
       "      <td>28.65</td>\n",
       "      <td>28.95</td>\n",
       "      <td>0.25</td>\n",
       "      <td>1992</td>\n",
       "    </tr>\n",
       "    <tr>\n",
       "      <th>12</th>\n",
       "      <td>1216</td>\n",
       "      <td>105/05/12</td>\n",
       "      <td>5823532</td>\n",
       "      <td>337920756</td>\n",
       "      <td>57.30</td>\n",
       "      <td>58.50</td>\n",
       "      <td>57.30</td>\n",
       "      <td>58.40</td>\n",
       "      <td>1.10</td>\n",
       "      <td>2945</td>\n",
       "    </tr>\n",
       "    <tr>\n",
       "      <th>13</th>\n",
       "      <td>1217</td>\n",
       "      <td>105/05/12</td>\n",
       "      <td>430450</td>\n",
       "      <td>3402141</td>\n",
       "      <td>7.85</td>\n",
       "      <td>8.00</td>\n",
       "      <td>7.81</td>\n",
       "      <td>7.85</td>\n",
       "      <td>0.00</td>\n",
       "      <td>173</td>\n",
       "    </tr>\n",
       "    <tr>\n",
       "      <th>14</th>\n",
       "      <td>1218</td>\n",
       "      <td>105/05/12</td>\n",
       "      <td>268733</td>\n",
       "      <td>3345762</td>\n",
       "      <td>12.45</td>\n",
       "      <td>12.55</td>\n",
       "      <td>12.35</td>\n",
       "      <td>12.40</td>\n",
       "      <td>-0.15</td>\n",
       "      <td>106</td>\n",
       "    </tr>\n",
       "    <tr>\n",
       "      <th>15</th>\n",
       "      <td>1219</td>\n",
       "      <td>105/05/12</td>\n",
       "      <td>37208</td>\n",
       "      <td>562998</td>\n",
       "      <td>15.20</td>\n",
       "      <td>15.20</td>\n",
       "      <td>15.00</td>\n",
       "      <td>15.05</td>\n",
       "      <td>-0.15</td>\n",
       "      <td>17</td>\n",
       "    </tr>\n",
       "    <tr>\n",
       "      <th>16</th>\n",
       "      <td>1220</td>\n",
       "      <td>105/05/12</td>\n",
       "      <td>50000</td>\n",
       "      <td>519600</td>\n",
       "      <td>10.45</td>\n",
       "      <td>10.50</td>\n",
       "      <td>10.30</td>\n",
       "      <td>10.45</td>\n",
       "      <td>0.00</td>\n",
       "      <td>25</td>\n",
       "    </tr>\n",
       "    <tr>\n",
       "      <th>17</th>\n",
       "      <td>1225</td>\n",
       "      <td>105/05/12</td>\n",
       "      <td>55382</td>\n",
       "      <td>1757142</td>\n",
       "      <td>31.65</td>\n",
       "      <td>31.90</td>\n",
       "      <td>31.20</td>\n",
       "      <td>31.20</td>\n",
       "      <td>-0.45</td>\n",
       "      <td>19</td>\n",
       "    </tr>\n",
       "    <tr>\n",
       "      <th>18</th>\n",
       "      <td>1227</td>\n",
       "      <td>105/05/12</td>\n",
       "      <td>511892</td>\n",
       "      <td>39680787</td>\n",
       "      <td>77.50</td>\n",
       "      <td>77.80</td>\n",
       "      <td>77.20</td>\n",
       "      <td>77.60</td>\n",
       "      <td>-0.10</td>\n",
       "      <td>401</td>\n",
       "    </tr>\n",
       "    <tr>\n",
       "      <th>19</th>\n",
       "      <td>1229</td>\n",
       "      <td>105/05/12</td>\n",
       "      <td>354427</td>\n",
       "      <td>7157504</td>\n",
       "      <td>20.40</td>\n",
       "      <td>20.40</td>\n",
       "      <td>20.05</td>\n",
       "      <td>20.10</td>\n",
       "      <td>0.10</td>\n",
       "      <td>183</td>\n",
       "    </tr>\n",
       "    <tr>\n",
       "      <th>20</th>\n",
       "      <td>1231</td>\n",
       "      <td>105/05/12</td>\n",
       "      <td>619161</td>\n",
       "      <td>18610131</td>\n",
       "      <td>29.25</td>\n",
       "      <td>30.55</td>\n",
       "      <td>29.25</td>\n",
       "      <td>30.20</td>\n",
       "      <td>1.05</td>\n",
       "      <td>328</td>\n",
       "    </tr>\n",
       "    <tr>\n",
       "      <th>21</th>\n",
       "      <td>1232</td>\n",
       "      <td>105/05/12</td>\n",
       "      <td>118000</td>\n",
       "      <td>9158100</td>\n",
       "      <td>77.30</td>\n",
       "      <td>77.90</td>\n",
       "      <td>77.30</td>\n",
       "      <td>77.40</td>\n",
       "      <td>0.10</td>\n",
       "      <td>55</td>\n",
       "    </tr>\n",
       "    <tr>\n",
       "      <th>22</th>\n",
       "      <td>1233</td>\n",
       "      <td>105/05/12</td>\n",
       "      <td>62200</td>\n",
       "      <td>2293460</td>\n",
       "      <td>36.80</td>\n",
       "      <td>37.05</td>\n",
       "      <td>36.80</td>\n",
       "      <td>36.85</td>\n",
       "      <td>0.05</td>\n",
       "      <td>32</td>\n",
       "    </tr>\n",
       "    <tr>\n",
       "      <th>23</th>\n",
       "      <td>1234</td>\n",
       "      <td>105/05/12</td>\n",
       "      <td>207595</td>\n",
       "      <td>6888635</td>\n",
       "      <td>33.60</td>\n",
       "      <td>33.60</td>\n",
       "      <td>32.95</td>\n",
       "      <td>32.95</td>\n",
       "      <td>-0.95</td>\n",
       "      <td>107</td>\n",
       "    </tr>\n",
       "    <tr>\n",
       "      <th>24</th>\n",
       "      <td>1235</td>\n",
       "      <td>105/05/12</td>\n",
       "      <td>25160</td>\n",
       "      <td>595842</td>\n",
       "      <td>23.45</td>\n",
       "      <td>23.95</td>\n",
       "      <td>23.30</td>\n",
       "      <td>23.90</td>\n",
       "      <td>0.00</td>\n",
       "      <td>23</td>\n",
       "    </tr>\n",
       "    <tr>\n",
       "      <th>25</th>\n",
       "      <td>1236</td>\n",
       "      <td>105/05/12</td>\n",
       "      <td>18010</td>\n",
       "      <td>361551</td>\n",
       "      <td>20.15</td>\n",
       "      <td>20.15</td>\n",
       "      <td>20.00</td>\n",
       "      <td>20.00</td>\n",
       "      <td>-0.15</td>\n",
       "      <td>16</td>\n",
       "    </tr>\n",
       "    <tr>\n",
       "      <th>26</th>\n",
       "      <td>1256</td>\n",
       "      <td>105/05/12</td>\n",
       "      <td>13150</td>\n",
       "      <td>1573200</td>\n",
       "      <td>120.00</td>\n",
       "      <td>120.00</td>\n",
       "      <td>118.50</td>\n",
       "      <td>118.50</td>\n",
       "      <td>-2.50</td>\n",
       "      <td>13</td>\n",
       "    </tr>\n",
       "    <tr>\n",
       "      <th>27</th>\n",
       "      <td>1702</td>\n",
       "      <td>105/05/12</td>\n",
       "      <td>1020054</td>\n",
       "      <td>63916873</td>\n",
       "      <td>61.70</td>\n",
       "      <td>63.20</td>\n",
       "      <td>61.70</td>\n",
       "      <td>62.60</td>\n",
       "      <td>0.60</td>\n",
       "      <td>601</td>\n",
       "    </tr>\n",
       "    <tr>\n",
       "      <th>28</th>\n",
       "      <td>1737</td>\n",
       "      <td>105/05/12</td>\n",
       "      <td>207912</td>\n",
       "      <td>5610143</td>\n",
       "      <td>27.00</td>\n",
       "      <td>27.10</td>\n",
       "      <td>26.85</td>\n",
       "      <td>26.85</td>\n",
       "      <td>-0.10</td>\n",
       "      <td>97</td>\n",
       "    </tr>\n",
       "    <tr>\n",
       "      <th>29</th>\n",
       "      <td>1301</td>\n",
       "      <td>105/05/12</td>\n",
       "      <td>3896203</td>\n",
       "      <td>300815138</td>\n",
       "      <td>77.00</td>\n",
       "      <td>77.40</td>\n",
       "      <td>76.80</td>\n",
       "      <td>77.10</td>\n",
       "      <td>0.10</td>\n",
       "      <td>2088</td>\n",
       "    </tr>\n",
       "  </tbody>\n",
       "</table>\n",
       "</div>"
      ],
      "text/plain": [
       "    個股代號         日期     成交股數       成交金額     開盤價     最高價     最低價     收盤價  漲跌價差  \\\n",
       "0   1101  105/05/12  3242925   96161650   29.50   29.80   29.45   29.70  0.05   \n",
       "1   1102  105/05/12  3094327   80204709   25.60   26.30   25.55   26.00  0.40   \n",
       "2   1103  105/05/12    56511     492804    8.78    8.78    8.70    8.74 -0.04   \n",
       "3   1104  105/05/12   138794    2766347   20.15   20.15   19.85   20.00 -0.15   \n",
       "4   1108  105/05/12    85995     865446   10.05   10.10   10.00   10.05  0.00   \n",
       "5   1109  105/05/12     4000      40050   10.05   10.05   10.00   10.00  0.00   \n",
       "6   1110  105/05/12    31000     445500   14.20   14.45   14.20   14.45  0.00   \n",
       "7   1201  105/05/12  1015742   19595770   19.65   19.70   19.00   19.10 -0.60   \n",
       "8   1203  105/05/12    12004     257184   21.55   21.55   21.40   21.40 -0.30   \n",
       "9   1210  105/05/12  4576158  107022964   23.05   23.75   23.00   23.40  0.50   \n",
       "10  1213  105/05/12    26010     447070   17.30   17.30   17.15   17.15 -0.10   \n",
       "11  1215  105/05/12  4658698  135637699   28.65   29.40   28.65   28.95  0.25   \n",
       "12  1216  105/05/12  5823532  337920756   57.30   58.50   57.30   58.40  1.10   \n",
       "13  1217  105/05/12   430450    3402141    7.85    8.00    7.81    7.85  0.00   \n",
       "14  1218  105/05/12   268733    3345762   12.45   12.55   12.35   12.40 -0.15   \n",
       "15  1219  105/05/12    37208     562998   15.20   15.20   15.00   15.05 -0.15   \n",
       "16  1220  105/05/12    50000     519600   10.45   10.50   10.30   10.45  0.00   \n",
       "17  1225  105/05/12    55382    1757142   31.65   31.90   31.20   31.20 -0.45   \n",
       "18  1227  105/05/12   511892   39680787   77.50   77.80   77.20   77.60 -0.10   \n",
       "19  1229  105/05/12   354427    7157504   20.40   20.40   20.05   20.10  0.10   \n",
       "20  1231  105/05/12   619161   18610131   29.25   30.55   29.25   30.20  1.05   \n",
       "21  1232  105/05/12   118000    9158100   77.30   77.90   77.30   77.40  0.10   \n",
       "22  1233  105/05/12    62200    2293460   36.80   37.05   36.80   36.85  0.05   \n",
       "23  1234  105/05/12   207595    6888635   33.60   33.60   32.95   32.95 -0.95   \n",
       "24  1235  105/05/12    25160     595842   23.45   23.95   23.30   23.90  0.00   \n",
       "25  1236  105/05/12    18010     361551   20.15   20.15   20.00   20.00 -0.15   \n",
       "26  1256  105/05/12    13150    1573200  120.00  120.00  118.50  118.50 -2.50   \n",
       "27  1702  105/05/12  1020054   63916873   61.70   63.20   61.70   62.60  0.60   \n",
       "28  1737  105/05/12   207912    5610143   27.00   27.10   26.85   26.85 -0.10   \n",
       "29  1301  105/05/12  3896203  300815138   77.00   77.40   76.80   77.10  0.10   \n",
       "\n",
       "    成交筆數  \n",
       "0   2064  \n",
       "1   2046  \n",
       "2     32  \n",
       "3     85  \n",
       "4     43  \n",
       "5      4  \n",
       "6     13  \n",
       "7    384  \n",
       "8     11  \n",
       "9   1946  \n",
       "10    21  \n",
       "11  1992  \n",
       "12  2945  \n",
       "13   173  \n",
       "14   106  \n",
       "15    17  \n",
       "16    25  \n",
       "17    19  \n",
       "18   401  \n",
       "19   183  \n",
       "20   328  \n",
       "21    55  \n",
       "22    32  \n",
       "23   107  \n",
       "24    23  \n",
       "25    16  \n",
       "26    13  \n",
       "27   601  \n",
       "28    97  \n",
       "29  2088  "
      ]
     },
     "execution_count": 32,
     "metadata": {},
     "output_type": "execute_result"
    }
   ],
   "source": [
    "# 抓回來的資料，全部\n",
    "prices"
   ]
  },
  {
   "cell_type": "code",
   "execution_count": 35,
   "metadata": {
    "collapsed": false
   },
   "outputs": [
    {
     "data": {
      "text/plain": [
       "30"
      ]
     },
     "execution_count": 35,
     "metadata": {},
     "output_type": "execute_result"
    }
   ],
   "source": [
    "len(prices)\n",
    "# 共抓取 30筆股價資料，加上一開始測試的 1 筆，所以 Flower 介面中顯示總共成功處理過 31 次任務。"
   ]
  },
  {
   "cell_type": "markdown",
   "metadata": {},
   "source": [
    "### Flower 介面中即可看到: 4個 workers，2個在 RPi 中，2個在 amd64的機器中， 都有出一份心力抓取資料"
   ]
  },
  {
   "cell_type": "markdown",
   "metadata": {},
   "source": [
    "![](./jpgs/flower7.jpg)"
   ]
  },
  {
   "cell_type": "markdown",
   "metadata": {},
   "source": [
    "## Summary:\n",
    "\n",
    " [SETI@home](https://en.wikipedia.org/wiki/SETI@home) 集合很多電腦的運算能力來共同解決特定的問題，是一個代表性的典範，但年代已久。  \n",
    " \n",
    " 而現今 藉由 Celery 與 Docker 的機制，我們可以讓電腦只需 pull and run 一個 Docker image，即可加入 distributed parallel computing 的 cluster，貢獻一己的運算資源，不論電腦的大小與CPU架構的種類。\n",
    " \n",
    " 本實驗中，我們使用一台 Raspberry Pi 和 一台 amd64架構 的 PC 來建構 **Web Crawler Cluster**，採用 distributed parallel computing 的模式，接受工作的委託，依據股票代號，抓取證交所網站中 個股的當日成交資訊。  \n",
    " \n",
    " 超越 volunteer-computing 單向付出的模式，有權限的使用者也可以下指令發送訊息到 cluster 中要求平行運算的服務，享用大家分享出來的運算資源。\n",
    " \n",
    " [120台 Raspberry Pi 組成的 cluster](https://resin.io/blog/what-would-you-do-with-a-120-raspberry-pi-cluster/) 乍看不小，但如果可以跳脫 \"必須在同一個機架之中\" 的思維，其實我們可以很容易地建構一個更大的 cluster，參加的 RPi 或者 PC 只需就地連上網路，run 指定的 Docker image，這樣就可以很快地建構出一個nodes數量相當大的 cluster。"
   ]
  }
 ],
 "metadata": {
  "kernelspec": {
   "display_name": "Python 3",
   "language": "python",
   "name": "python3"
  },
  "language_info": {
   "codemirror_mode": {
    "name": "ipython",
    "version": 3
   },
   "file_extension": ".py",
   "mimetype": "text/x-python",
   "name": "python",
   "nbconvert_exporter": "python",
   "pygments_lexer": "ipython3",
   "version": "3.5.1"
  }
 },
 "nbformat": 4,
 "nbformat_minor": 0
}
